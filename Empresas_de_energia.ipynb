{
  "nbformat": 4,
  "nbformat_minor": 0,
  "metadata": {
    "colab": {
      "provenance": [],
      "toc_visible": true,
      "authorship_tag": "ABX9TyOT9SKY4Dp97aAmDHhU4alq",
      "include_colab_link": true
    },
    "kernelspec": {
      "name": "python3",
      "display_name": "Python 3"
    },
    "language_info": {
      "name": "python"
    }
  },
  "cells": [
    {
      "cell_type": "markdown",
      "metadata": {
        "id": "view-in-github",
        "colab_type": "text"
      },
      "source": [
        "<a href=\"https://colab.research.google.com/github/Ricartt/Analise_empresas_de_energia/blob/main/Empresas_de_energia.ipynb\" target=\"_parent\"><img src=\"https://colab.research.google.com/assets/colab-badge.svg\" alt=\"Open In Colab\"/></a>"
      ]
    },
    {
      "cell_type": "markdown",
      "source": [
        "**Ciência de Dados para Finanças**"
      ],
      "metadata": {
        "id": "-pVoJ_ReHf_D"
      }
    },
    {
      "cell_type": "code",
      "execution_count": 7,
      "metadata": {
        "id": "vxnjR-_ZHTfw"
      },
      "outputs": [],
      "source": [
        "# Bibliotecas Utilizadas\n",
        "import pandas as pd\n",
        "import matplotlib.pyplot as plt\n",
        "import numpy as np\n",
        "import seaborn as sns"
      ]
    },
    {
      "cell_type": "code",
      "source": [
        "# Lendo arquivos\n",
        "arqv = pd.read_excel(\"Dados_Empresas_Energia.xlsx\")\n",
        "arqv.head()"
      ],
      "metadata": {
        "id": "_CjT6xnlIJE0"
      },
      "execution_count": null,
      "outputs": []
    },
    {
      "cell_type": "code",
      "source": [
        "# series Temporais = Setar index\n",
        "arqv.set_index('Data', inplace=True)\n",
        "\n",
        " # Verificar\n",
        "arqv.head()"
      ],
      "metadata": {
        "id": "b02hz-LWJFwF"
      },
      "execution_count": null,
      "outputs": []
    },
    {
      "cell_type": "code",
      "source": [
        "# Criando Gráfico\n",
        "\n",
        "# estilo\n",
        "plt.style.use('seaborn-darkgrid')\n",
        "\n",
        "# tamanho\n",
        "plt.figure(figsize = (16,7))\n",
        "\n",
        "# Titulo\n",
        "plt.title(\"Análise ações de empresas de Energia\", loc='left', fontsize=18, fontweight=0);\n",
        "\n",
        "# plot da petrobras\n",
        "plt.plot(arqv.index, arqv['Petrobras'], color='#008c4a', linewidth=4, alpha=0.7) # o index serve para ordenar dados\n",
        "\n",
        "# Texto Petro\n",
        "plt.text(arqv.index[-1], arqv['Petrobras'].tail(1), 'Petrobrás', color='#008c4a', size='large', horizontalalignment='left')\n",
        "\n",
        "\n",
        "#plot de todas as colunas\n",
        "\n",
        "for Coluna in arqv.columns[1:]:\n",
        "  # plot outras açoes\n",
        "  plt.plot(arqv.index, arqv[Coluna], color='gray', linewidth=2, alpha = 0.7)\n",
        "  # Texto Açoes\n",
        "  plt.text(arqv.index[-1], arqv[Coluna].tail(1), Coluna, color='gray', size='large', horizontalalignment='left')\n",
        "\n",
        "#Labels\n",
        "plt.xlabel('Período')\n",
        "plt.ylabel('Preço Fechamento(R$)')\n"
      ],
      "metadata": {
        "id": "j3KPO2WMJoC3"
      },
      "execution_count": null,
      "outputs": []
    }
  ]
}